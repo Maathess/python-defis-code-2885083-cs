{
  "cells": [
    {
      "cell_type": "markdown",
      "metadata": {
        "id": "MbZyA61s9QD4"
      },
      "source": [
        "# Réfléchir et résoudre : \"Growth and Learning\""
      ]
    },
    {
      "cell_type": "markdown",
      "metadata": {
        "id": "ZO0ACtV76HK1"
      },
      "source": [
        "## 1) Partir en croisade"
      ]
    },
    {
      "cell_type": "markdown",
      "metadata": {
        "id": "Jm9lOLE1_-jw"
      },
      "source": [
        "## 2) Se dissiper avec le brouillard anglais"
      ]
    },
    {
      "cell_type": "markdown",
      "metadata": {
        "id": "EB2Vpdz-mLUo"
      },
      "source": [
        "### Défi"
      ]
    },
    {
      "cell_type": "code",
      "execution_count": 1,
      "metadata": {
        "id": "yvoO6Wxrc9NT"
      },
      "outputs": [],
      "source": [
        "enigme = (\n",
        "  \"HSMKEWNPRHNPJNBKQTKUQCEWKDIQPTKQJJDMQXKDSLMQCSEWKTEWNPRHFLHEMQXKDSLHZKQTQPCI\"\n",
        "  \"LTHKZWKPDSLTKIWKZNPRSPJNBKHRTNHEJKCSPERTLMUJKRNAKQZWNHEJKQPCEWNHJJWKJOEWNPRH\"\n",
        "  \"ELTPSLEBSTEWKUKHEQPCQJZQDHJSSXSPEWKUTNRWEHNCKSBJNBKQJZQDHJSSXSPEWKJNRWEHNCKS\"\n",
        "  \"BJNBKNBJNBKHKKMHFSJJDTSEEKPEWKTKHHSMKEWNPRDSLAKBSTRSEEKPQPCEWQEHESJQLRWQPCHM\"\n",
        "  \"NJKQPCCQPIKQPCHNPRZWKPDSLTKBKKJNPRNPEWKCLMOHCSPEUKHNJJDIWLMOHFLHEOLTHKDSLTJN\"\n",
        "  \"OHQPCZWNHEJKEWQEHEWKEWNPRQPCQJZQDHJSSXSPEWKUTNRWEHNCKSBJNBKISMKSPQJZQDHJSSXS\"\n",
        "  \"PEWKTNRWEHNCKSBJNBKBSTJNBKNHVLNEKQUHLTCQPCCKQEWHEWKBNPQJZSTCDSLMLHEQJZQDHBQI\"\n",
        "  \"KEWKILTEQNPZNEWQUSZBSTRKEQUSLEDSLTHNPRNAKEWKQLCNKPIKQRTNPKPFSDNENEHDSLTJQHEI\"\n",
        "  \"WQPIKQPDWSZHSQJZQDHJSSXSPEWKUTNRWEHNCKSBCKQEWQFLHEUKBSTKDSLCTQZDSLTEKTMNPQJU\"\n",
        "  \"TKQEWJNBKHQONKIKSBHWNEZWKPDSLJSSXQENEJNBKHQJQLRWQPCCKQEWHQFSXKNEHETLKDSLJJHK\"\n",
        "  \"KNEHQJJQHWSZXKKOKMJQLRWNPQHDSLRSFLHETKMKMUKTEWQEEWKJQHEJQLRWNHSPDSLQPCQJZQDH\"\n",
        "  \"JSSXSPEWKUTNRWEHNCKSBJNBKQJZQDHJSSXSPEWKTNRWEHNCKSBJNBKIMSPUTNQPIWKKTLOQJZQD\"\n",
        "  \"HJSSXSPEWKUTNRWEHNCKSBJNBKQJZQDHJSSXSPEWKUTNRWEHNCKSBJNBKQJZQDHJSSXSPEWKUTNR\"\n",
        "  \"WEHNCKSBJNBKNMKQPZWQEWQAKDSLRSEESJSHKDSLXPSZDSLISMKBTSMPSEWNPRDSLTKRSNPRUQIX\"\n",
        "  \"ESPSEWNPRZWQEWQAKDSLJSHEPSEWNPRQJZQDHJSSXSPEWKTNRWEHNCKSBJNBKPSEWNPRZNJJISMK\"\n",
        "  \"BTSMPSEWNPRDQXPSZZWQEEWKDHQDIWKKTLODQSJCULRRQIMSPRNAKLHQRTNPQJZQDHJSSXSPEWKT\"\n",
        "  \"NRWEHNCKSBJNBKEWKTKDQQTKHKKNEHEWKKPCSBEWKBNJMNPINCKPEQJJDEWNHTKISTCHQAQNJQUJ\"\n",
        "  \"KNPEWKBSDKTQJZQDHJSSXSPEWKTNRWEHNCKSBJNBKHSMKSBLHRSEESJNAKQHZKJJDSLXPSZQJZQD\"\n",
        "  \"HJSSXSPEWKTNRWEHNCKSBJNBKZWSCSDSLEWNPXOQDHBSTQJJEWNHTLUUNHWQJZQDHJSSXSPEWKTN\"\n",
        "  \"RWEHNCKSBJNBKEWKDTKPSERSPPQMQXKEWKNTMSPKDUQIXDSLXPSZNESJCEWKMNHQNCESWNMUKTPN\"\n",
        "  \"KNHQNCEWKDJJPKAKTMQXKEWKNTMSPKDUQIX\"\n",
        ")\n",
        "frequence = \"EOTIALHSNRYFUGDWMKBCPVJQXZ\""
      ]
    },
    {
      "cell_type": "code",
      "execution_count": 2,
      "metadata": {},
      "outputs": [
        {
          "name": "stdout",
          "output_type": "stream",
          "text": [
            "{'H': 95, 'S': 152, 'M': 31, 'K': 164, 'E': 122, 'W': 98, 'N': 119, 'P': 92, 'R': 49, 'J': 99, 'B': 52, 'Q': 116, 'T': 65, 'U': 26, 'C': 48, 'D': 57, 'I': 23, 'X': 30, 'L': 51, 'F': 7, 'Z': 39, 'A': 9, 'O': 10, 'V': 1}\n"
          ]
        }
      ],
      "source": [
        "#compter l'occurence d'une lettre\n",
        "letter_occ = dict()\n",
        "\n",
        "i=0\n",
        "\n",
        "while i < len(enigme):\n",
        "  if enigme[i] in letter_occ :\n",
        "    letter_occ[enigme[i]]  += 1\n",
        "  else :\n",
        "    letter_occ[enigme[i]] = 1\n",
        "  i +=1\n",
        "\n",
        "print(letter_occ)"
      ]
    },
    {
      "cell_type": "code",
      "execution_count": 19,
      "metadata": {},
      "outputs": [
        {
          "name": "stdout",
          "output_type": "stream",
          "text": [
            "{'K': 164, 'S': 152, 'E': 122, 'N': 119, 'Q': 116, 'J': 99, 'W': 98, 'H': 95, 'P': 92, 'T': 65, 'D': 57, 'B': 52, 'L': 51, 'R': 49, 'C': 48, 'Z': 39, 'M': 31, 'X': 30, 'U': 26, 'I': 23, 'O': 10, 'A': 9, 'F': 7, 'V': 1}\n"
          ]
        }
      ],
      "source": [
        "#Trier le dict\n",
        "letter_occ_sorted = {k: v for k, v in sorted(\n",
        "  letter_occ.items(), key=lambda item: item[1], reverse=True)}\n",
        "print(letter_occ_sorted)\n"
      ]
    },
    {
      "cell_type": "code",
      "execution_count": 20,
      "metadata": {},
      "outputs": [
        {
          "name": "stdout",
          "output_type": "stream",
          "text": [
            "EOTIALHSNRYFUGDWMKBCPVJQXZ\n",
            "KSENQJWHPTDBLRCZMXUIOAFV\n"
          ]
        }
      ],
      "source": [
        "frequence_enigme = ''.join(duo[0] for duo in letter_occ_sorted)\n",
        "print(frequence)\n",
        "print(frequence_enigme)"
      ]
    },
    {
      "cell_type": "code",
      "execution_count": 21,
      "metadata": {},
      "outputs": [
        {
          "data": {
            "text/plain": [
              "{'K': 'E',\n",
              " 'S': 'O',\n",
              " 'E': 'T',\n",
              " 'N': 'I',\n",
              " 'Q': 'A',\n",
              " 'J': 'L',\n",
              " 'W': 'H',\n",
              " 'H': 'S',\n",
              " 'P': 'N',\n",
              " 'T': 'R',\n",
              " 'D': 'Y',\n",
              " 'B': 'F',\n",
              " 'L': 'U',\n",
              " 'R': 'G',\n",
              " 'C': 'D',\n",
              " 'Z': 'W',\n",
              " 'M': 'M',\n",
              " 'X': 'K',\n",
              " 'U': 'B',\n",
              " 'I': 'C',\n",
              " 'O': 'P',\n",
              " 'A': 'V',\n",
              " 'F': 'J',\n",
              " 'V': 'Q'}"
            ]
          },
          "execution_count": 21,
          "metadata": {},
          "output_type": "execute_result"
        }
      ],
      "source": [
        "#Remplacer les lettres de l'énigme par ceux des fréquences\n",
        "# i = 0\n",
        "# list1 = list(enigme)\n",
        "# while i < len(enigme) :\n",
        "#   #count = 0\n",
        "#   for key, value in letter_occ.items():\n",
        "#     if enigme[i] == key :\n",
        "#       list1[i] = frequence[list(letter_occ).index(key)]\n",
        "\n",
        "#     #else :\n",
        "#     #  count +=1\n",
        "\n",
        "# # str1 = ''.join(list1)\n",
        "\n",
        "correspondance = dict(zip(frequence_enigme, frequence))\n",
        "correspondance"
      ]
    },
    {
      "cell_type": "code",
      "execution_count": 23,
      "metadata": {},
      "outputs": [
        {
          "data": {
            "text/plain": [
              "'SOMETHINGSINLIFEAREBADTHEYCANREALLYMAKEYOUMADOTHERTHINGSJUSTMAKEYOUSWEARANDCURSEWHENYOURECHEWINGONLIFESGRISTLEDONTGRUMBLEGIVEAWHISTLEANDTHISLLHELPTHINGSTURNOUTFORTHEBESTANDALWAYSLOOKONTHEBRIGHTSIDEOFLIFEALWAYSLOOKONTHELIGHTSIDEOFLIFEIFLIFESEEMSJOLLYROTTENTHERESSOMETHINGYOUVEFORGOTTENANDTHATSTOLAUGHANDSMILEANDDANCEANDSINGWHENYOUREFEELINGINTHEDUMPSDONTBESILLYCHUMPSJUSTPURSEYOURLIPSANDWHISTLETHATSTHETHINGANDALWAYSLOOKONTHEBRIGHTSIDEOFLIFECOMEONALWAYSLOOKONTHERIGHTSIDEOFLIFEFORLIFEISQUITEABSURDANDDEATHSTHEFINALWORDYOUMUSTALWAYSFACETHECURTAINWITHABOWFORGETABOUTYOURSINGIVETHEAUDIENCEAGRINENJOYITITSYOURLASTCHANCEANYHOWSOALWAYSLOOKONTHEBRIGHTSIDEOFDEATHAJUSTBEFOREYOUDRAWYOURTERMINALBREATHLIFESAPIECEOFSHITWHENYOULOOKATITLIFESALAUGHANDDEATHSAJOKEITSTRUEYOULLSEEITSALLASHOWKEEPEMLAUGHINASYOUGOJUSTREMEMBERTHATTHELASTLAUGHISONYOUANDALWAYSLOOKONTHEBRIGHTSIDEOFLIFEALWAYSLOOKONTHERIGHTSIDEOFLIFECMONBRIANCHEERUPALWAYSLOOKONTHEBRIGHTSIDEOFLIFEALWAYSLOOKONTHEBRIGHTSIDEOFLIFEALWAYSLOOKONTHEBRIGHTSIDEOFLIFEIMEANWHATHAVEYOUGOTTOLOSEYOUKNOWYOUCOMEFROMNOTHINGYOUREGOINGBACKTONOTHINGWHATHAVEYOULOSTNOTHINGALWAYSLOOKONTHERIGHTSIDEOFLIFENOTHINGWILLCOMEFROMNOTHINGYAKNOWWHATTHEYSAYCHEERUPYAOLDBUGGACMONGIVEUSAGRINALWAYSLOOKONTHERIGHTSIDEOFLIFETHEREYAARESEEITSTHEENDOFTHEFILMINCIDENTALLYTHISRECORDSAVAILABLEINTHEFOYERALWAYSLOOKONTHERIGHTSIDEOFLIFESOMEOFUSGOTTOLIVEASWELLYOUKNOWALWAYSLOOKONTHERIGHTSIDEOFLIFEWHODOYOUTHINKPAYSFORALLTHISRUBBISHALWAYSLOOKONTHERIGHTSIDEOFLIFETHEYRENOTGONNAMAKETHEIRMONEYBACKYOUKNOWITOLDTHEMISAIDTOHIMBERNIEISAIDTHEYLLNEVERMAKETHEIRMONEYBACK'"
            ]
          },
          "execution_count": 23,
          "metadata": {},
          "output_type": "execute_result"
        }
      ],
      "source": [
        "''.join([correspondance[lettre] for lettre in enigme])"
      ]
    },
    {
      "cell_type": "markdown",
      "metadata": {
        "id": "22q1RQeJAAP4"
      },
      "source": [
        "## 3) Affiner sa recherche et son fromage"
      ]
    },
    {
      "cell_type": "markdown",
      "metadata": {
        "id": "01B_HwaAACiA"
      },
      "source": [
        "## 4) Imiter le perroquet"
      ]
    },
    {
      "cell_type": "markdown",
      "metadata": {
        "id": "U1wq0qXQ6LLj"
      },
      "source": [
        "# Combattre la routine : \"Fighting Each Other\""
      ]
    },
    {
      "cell_type": "markdown",
      "metadata": {
        "id": "EYHOS1yv6eyT"
      },
      "source": [
        "## 1) Nettoyer le \"for k\""
      ]
    },
    {
      "cell_type": "markdown",
      "metadata": {
        "id": "_FwKM6Df6hPy"
      },
      "source": [
        "## 2) Varier ses variables"
      ]
    },
    {
      "cell_type": "markdown",
      "metadata": {
        "id": "6xwMHZY-6smL"
      },
      "source": [
        "## 3) Adopter une drôle de démarche"
      ]
    },
    {
      "cell_type": "markdown",
      "metadata": {
        "id": "Z4DaiAa46w8L"
      },
      "source": [
        "# Intégrer l'existant : \"Live Organ Transplants\""
      ]
    },
    {
      "cell_type": "markdown",
      "metadata": {},
      "source": [
        "## 1) Réparer la machine qui fait \\\"Bing\\\""
      ]
    },
    {
      "cell_type": "markdown",
      "metadata": {
        "id": "NajPU3UNqjyn"
      },
      "source": [
        "## 2) Soigner ses arguments"
      ]
    },
    {
      "cell_type": "markdown",
      "metadata": {
        "id": "MLND-5kFqqjI"
      },
      "source": [
        "## 3) Cerner la souris et son problème"
      ]
    },
    {
      "cell_type": "markdown",
      "metadata": {
        "id": "ZXpDQr_g7JT7"
      },
      "source": [
        "# Éprouver votre endurance : \"The Autumn Years\""
      ]
    },
    {
      "cell_type": "markdown",
      "metadata": {
        "id": "VKJUGrd3BGv_"
      },
      "source": [
        "## 1) Dépouiller les votes"
      ]
    },
    {
      "cell_type": "markdown",
      "metadata": {
        "id": "SA0rIZ70Hvoe"
      },
      "source": [
        "## 2) Prendre le dessus"
      ]
    },
    {
      "cell_type": "markdown",
      "metadata": {},
      "source": [
        "## 3) Appréhender le pire défi Python"
      ]
    }
  ],
  "metadata": {
    "colab": {
      "collapsed_sections": [
        "-Vatf6FjoOI1",
        "M-dCDr0twu_p",
        "XWzopJmxKbu0",
        "J1DBepVJvbzQ",
        "MLND-5kFqqjI"
      ],
      "name": "Défis de code Python.ipynb",
      "provenance": []
    },
    "kernelspec": {
      "display_name": "Python 3.10.4 64-bit",
      "language": "python",
      "name": "python3"
    },
    "language_info": {
      "codemirror_mode": {
        "name": "ipython",
        "version": 3
      },
      "file_extension": ".py",
      "mimetype": "text/x-python",
      "name": "python",
      "nbconvert_exporter": "python",
      "pygments_lexer": "ipython3",
      "version": "3.10.4"
    },
    "vscode": {
      "interpreter": {
        "hash": "3ad933181bd8a04b432d3370b9dc3b0662ad032c4dfaa4e4f1596c548f763858"
      }
    }
  },
  "nbformat": 4,
  "nbformat_minor": 0
}
